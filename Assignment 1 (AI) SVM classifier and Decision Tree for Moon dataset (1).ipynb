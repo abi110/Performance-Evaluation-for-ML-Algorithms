{
 "cells": [
  {
   "cell_type": "markdown",
   "id": "244950b8",
   "metadata": {},
   "source": [
    "# Trained SVM classifier on a generated moon dataset"
   ]
  },
  {
   "cell_type": "code",
   "execution_count": 1,
   "id": "0347f012",
   "metadata": {},
   "outputs": [
    {
     "name": "stdout",
     "output_type": "stream",
     "text": [
      "done\n"
     ]
    }
   ],
   "source": [
    "# Common imports \n",
    "import numpy as np \n",
    "import pandas as pd\n",
    "import matplotlib.pyplot as plt\n",
    "import seaborn as sns \n",
    "\n",
    "# to make this notebook's output stable across runs \n",
    "np.random.seed(42) \n",
    "\n",
    "# sklearn imports\n",
    "from sklearn.metrics import accuracy_score\n",
    "from sklearn.preprocessing import StandardScaler \n",
    "from sklearn.datasets import make_moons\n",
    "\n",
    "# moons dataset generated with 10,000 samples\n",
    "X, y = make_moons(n_samples=10000, noise=0.1) \n",
    "\n",
    "\n",
    "print(\"done\")"
   ]
  },
  {
   "cell_type": "code",
   "execution_count": 2,
   "id": "9902ebcc",
   "metadata": {},
   "outputs": [
    {
     "data": {
      "text/plain": [
       "((8000, 2), (8000,), (2000, 2), (2000,))"
      ]
     },
     "execution_count": 2,
     "metadata": {},
     "output_type": "execute_result"
    }
   ],
   "source": [
    "# train test split imported from sklearn in order to assign data to different sections of the model for training and testing\n",
    "from sklearn.model_selection import train_test_split\n",
    "\n",
    "X_train, X_test, y_train, y_test = train_test_split(X, y, test_size=0.20, random_state=1)\n",
    "X_train.shape, y_train.shape, X_test.shape, y_test.shape"
   ]
  },
  {
   "cell_type": "code",
   "execution_count": 3,
   "id": "cc9be9cb",
   "metadata": {},
   "outputs": [
    {
     "data": {
      "image/png": "[encoded data removed]",
      "text/plain": [
       "<Figure size 432x288 with 1 Axes>"
      ]
     },
     "metadata": {
      "needs_background": "light"
     },
     "output_type": "display_data"
    }
   ],
   "source": [
    "# moon dataset plotted \n",
    "df = pd.DataFrame(dict(x=X[:,0], y=X[:,1], label=y))\n",
    "colors = {0:'blue', 1:'red'}\n",
    "fig, ax = plt.subplots()\n",
    "grouped = df.groupby('label')\n",
    "for key, group in grouped:\n",
    "    group.plot(ax=ax, kind='scatter', x='x', y='y', label=key, color=colors[key])\n",
    "plt.show()"
   ]
  },
  {
   "cell_type": "code",
   "execution_count": 4,
   "id": "c153571e",
   "metadata": {},
   "outputs": [
    {
     "name": "stdout",
     "output_type": "stream",
     "text": [
      "0.999125\n"
     ]
    }
   ],
   "source": [
    "# model defined, radial basis kernel used as it is a nonlinear dataset\n",
    "from sklearn.svm import SVC\n",
    "\n",
    "model = SVC(kernel='rbf').fit(X_train, y_train)\n",
    "\n",
    "print(model.score(X_train, y_train))"
   ]
  },
  {
   "cell_type": "code",
   "execution_count": 9,
   "id": "8bd524d4",
   "metadata": {},
   "outputs": [
    {
     "name": "stdout",
     "output_type": "stream",
     "text": [
      "Fitting 3 folds for each of 10 candidates, totalling 30 fits\n",
      "[CV] END ....C=2.888287366539485, gamma=0.044644733963447224; total time=   0.8s\n",
      "[CV] END ....C=2.888287366539485, gamma=0.044644733963447224; total time=   0.8s\n",
      "[CV] END ....C=2.888287366539485, gamma=0.044644733963447224; total time=   0.8s\n",
      "[CV] END .....C=4.55045437122979, gamma=0.004755972775838484; total time=   0.9s\n",
      "[CV] END .....C=4.55045437122979, gamma=0.004755972775838484; total time=   0.9s\n",
      "[CV] END .....C=4.55045437122979, gamma=0.004755972775838484; total time=   0.9s\n",
      "[CV] END ....C=1.1181733577821054, gamma=0.09450569185856389; total time=   0.7s\n",
      "[CV] END ....C=1.1181733577821054, gamma=0.09450569185856389; total time=   0.8s\n",
      "[CV] END ....C=1.1181733577821054, gamma=0.09450569185856389; total time=   0.7s\n",
      "[CV] END ....C=7.120043391718638, gamma=0.007005841899219033; total time=   0.8s\n",
      "[CV] END ....C=7.120043391718638, gamma=0.007005841899219033; total time=   0.8s\n",
      "[CV] END ....C=7.120043391718638, gamma=0.007005841899219033; total time=   0.8s\n",
      "[CV] END ....C=1.9662140446133904, gamma=0.02502050830099449; total time=   0.8s\n",
      "[CV] END ....C=1.9662140446133904, gamma=0.02502050830099449; total time=   0.8s\n",
      "[CV] END ....C=1.9662140446133904, gamma=0.02502050830099449; total time=   0.8s\n",
      "[CV] END ....C=3.8273046999193885, gamma=0.09474616423800693; total time=   0.5s\n",
      "[CV] END ....C=3.8273046999193885, gamma=0.09474616423800693; total time=   0.5s\n",
      "[CV] END ....C=3.8273046999193885, gamma=0.09474616423800693; total time=   0.5s\n",
      "[CV] END ...C=10.505473591493232, gamma=0.029552440907951914; total time=   0.8s\n",
      "[CV] END ...C=10.505473591493232, gamma=0.029552440907951914; total time=   0.8s\n",
      "[CV] END ...C=10.505473591493232, gamma=0.029552440907951914; total time=   0.8s\n",
      "[CV] END ...C=10.71071930282969, gamma=0.0016265511494661488; total time=   1.2s\n",
      "[CV] END ...C=10.71071930282969, gamma=0.0016265511494661488; total time=   0.9s\n",
      "[CV] END ...C=10.71071930282969, gamma=0.0016265511494661488; total time=   1.0s\n",
      "[CV] END ....C=3.799153605365452, gamma=0.003209863597802666; total time=   1.0s\n",
      "[CV] END ....C=3.799153605365452, gamma=0.003209863597802666; total time=   1.0s\n",
      "[CV] END ....C=3.799153605365452, gamma=0.003209863597802666; total time=   1.0s\n",
      "[CV] END ......C=1.720126584593025, gamma=0.0879940275128454; total time=   0.7s\n",
      "[CV] END ......C=1.720126584593025, gamma=0.0879940275128454; total time=   0.7s\n",
      "[CV] END ......C=1.720126584593025, gamma=0.0879940275128454; total time=   0.7s\n"
     ]
    },
    {
     "data": {
      "text/plain": [
       "0.9837498744764931"
      ]
     },
     "execution_count": 9,
     "metadata": {},
     "output_type": "execute_result"
    }
   ],
   "source": [
    "# hyper perameters tuned by randomised search with cross validation\n",
    "from sklearn.model_selection import RandomizedSearchCV \n",
    "from scipy.stats import reciprocal, uniform \n",
    "svm_clf = SVC(decision_function_shape=\"ovr\", gamma=\"auto\") \n",
    "svm_clf.fit(X_train[:10000], y_train[:10000])\n",
    "param_distributions = {\"gamma\": reciprocal(0.001, 0.1), \"C\": uniform(1, 10)} \n",
    "rnd_search_cv = RandomizedSearchCV(svm_clf, param_distributions, n_iter=10, verbose=2, cv=3) \n",
    "rnd_search_cv.fit(X_train[:10000], y_train[:10000]) \n",
    "rnd_search_cv.best_estimator_ \n",
    "rnd_search_cv.best_score_ "
   ]
  },
  {
   "cell_type": "code",
   "execution_count": 11,
   "id": "7513c79c",
   "metadata": {},
   "outputs": [
    {
     "name": "stdout",
     "output_type": "stream",
     "text": [
      "0.989\n"
     ]
    }
   ],
   "source": [
    "#retraining best estimator on whole training set\n",
    "rnd_search_cv.best_estimator_.fit(X_train, y_train) \n",
    "y_pred = rnd_search_cv.best_estimator_.predict(X_train) \n",
    "print(accuracy_score(y_train, y_pred))"
   ]
  },
  {
   "cell_type": "code",
   "execution_count": 12,
   "id": "b1954dff",
   "metadata": {},
   "outputs": [
    {
     "data": {
      "text/plain": [
       "0.9875"
      ]
     },
     "execution_count": 12,
     "metadata": {},
     "output_type": "execute_result"
    }
   ],
   "source": [
    "# model tested on test set\n",
    "y_pred = rnd_search_cv.best_estimator_.predict(X_test) \n",
    "accuracy_score(y_test, y_pred) "
   ]
  },
  {
   "cell_type": "code",
   "execution_count": 13,
   "id": "0e30ca73",
   "metadata": {
    "scrolled": true
   },
   "outputs": [
    {
     "name": "stdout",
     "output_type": "stream",
     "text": [
      "[[984  12]\n",
      " [ 13 991]]\n",
      "              precision    recall  f1-score   support\n",
      "\n",
      "           0       0.99      0.99      0.99       996\n",
      "           1       0.99      0.99      0.99      1004\n",
      "\n",
      "    accuracy                           0.99      2000\n",
      "   macro avg       0.99      0.99      0.99      2000\n",
      "weighted avg       0.99      0.99      0.99      2000\n",
      "\n"
     ]
    }
   ],
   "source": [
    "# Confusion Matrix and Classification report\n",
    "from sklearn.metrics import classification_report, confusion_matrix\n",
    "\n",
    "print(confusion_matrix(y_test, y_pred))\n",
    "print(classification_report(y_test, y_pred))"
   ]
  },
  {
   "cell_type": "code",
   "execution_count": 14,
   "id": "e6aceac0",
   "metadata": {},
   "outputs": [
    {
     "name": "stdout",
     "output_type": "stream",
     "text": [
      "Mean Squared Error: 0.0125\n",
      "Accuracy: 0.9875\n",
      "Precision: 0.9817425988965375\n",
      "Recall: 0.9870517928286853\n",
      "Receiver Operating Curve: (array([0.        , 0.01204819, 1.        ]), array([0.        , 0.98705179, 1.        ]), array([2, 1, 0], dtype=int64))\n"
     ]
    }
   ],
   "source": [
    "# Mean Squared Error, Accuracy, Average Precision Score, Recall, ROC\n",
    "from sklearn.metrics import mean_squared_error\n",
    "from sklearn.metrics import accuracy_score\n",
    "from sklearn.metrics import average_precision_score\n",
    "from sklearn.metrics import recall_score\n",
    "from sklearn.metrics import roc_curve\n",
    "\n",
    "print(f\"Mean Squared Error: {mean_squared_error(y_test, y_pred, sample_weight=None, multioutput='uniform_average', squared=True)}\")\n",
    "print(f\"Accuracy: {accuracy_score(y_test, y_pred, normalize=True, sample_weight=None)}\")\n",
    "print(f\"Precision: {average_precision_score(y_test, y_pred, average='macro', pos_label=1, sample_weight=None)}\")\n",
    "print(f\"Recall: {recall_score(y_test, y_pred, labels=None, pos_label=1, average='binary', sample_weight=None, zero_division='warn')}\")\n",
    "print(f\"Receiver Operating Curve: {roc_curve(y_test, y_pred, pos_label=None, sample_weight=None, drop_intermediate=True)}\")"
   ]
  },
  {
   "cell_type": "code",
   "execution_count": 22,
   "id": "89e6c816",
   "metadata": {},
   "outputs": [
    {
     "name": "stdout",
     "output_type": "stream",
     "text": [
      "Area under the ROC curve : 0.960821\n"
     ]
    },
    {
     "data": {
      "image/png": "[encoded data removed]",
      "text/plain": [
       "<Figure size 432x288 with 1 Axes>"
      ]
     },
     "metadata": {
      "needs_background": "light"
     },
     "output_type": "display_data"
    }
   ],
   "source": [
    "import pylab as pl\n",
    "from sklearn import svm\n",
    "from sklearn.utils import shuffle\n",
    "from sklearn.metrics import roc_curve, auc\n",
    "random_state = np.random.RandomState(0)\n",
    "classifier = svm.SVC(kernel='linear', probability=True)\n",
    "probas_ = classifier.fit(X_train, y_train).predict_proba(X_test)\n",
    "# ROC curve and area the curve\n",
    "fpr, tpr, thresholds = roc_curve(y_test, probas_[:, 1])\n",
    "roc_auc = auc(fpr, tpr)\n",
    "print(\"Area under the ROC curve : %f\" % roc_auc)\n",
    "# Plot curve\n",
    "pl.clf()\n",
    "pl.plot(fpr, tpr, label='ROC curve (area = %0.2f)' % roc_auc)\n",
    "pl.plot([0, 1], [0, 1], 'k--')\n",
    "pl.xlim([0.0, 1.0])\n",
    "pl.ylim([0.0, 1.0])\n",
    "pl.xlabel('False Positive Rate')\n",
    "pl.ylabel('True Positive Rate')\n",
    "pl.title('Receiver operating characteristic SVM')\n",
    "pl.legend(loc=\"lower right\")\n",
    "pl.show()"
   ]
  },
  {
   "cell_type": "code",
   "execution_count": 24,
   "id": "1b74f5ee",
   "metadata": {},
   "outputs": [
    {
     "data": {
      "image/png": "[encoded data removed]",
      "text/plain": [
       "<Figure size 432x288 with 1 Axes>"
      ]
     },
     "metadata": {
      "needs_background": "light"
     },
     "output_type": "display_data"
    }
   ],
   "source": [
    "# Precision-Recall curve\n",
    "classifier.fit(X_train, y_train)\n",
    "try:\n",
    "    scores = classifier.decision_function(X_test)\n",
    "except:\n",
    "    scores = classifier.predict_proba(X_test)[:,1]\n",
    "\n",
    "precision, recall, _ = precision_recall_curve(y_test, scores, pos_label=1)\n",
    "average_precision = average_precision_score(y_test, scores)\n",
    "\n",
    "plt.plot(recall, precision, label='area = %0.2f' % average_precision, color=\"green\")\n",
    "plt.xlim([0.0, 1.0])\n",
    "plt.ylim([0.0, 1.05])\n",
    "plt.xlabel('Recall')\n",
    "plt.ylabel('Precision')\n",
    "plt.title('Precision Recall Curve')\n",
    "plt.legend(loc=\"lower right\")\n",
    "plt.show()"
   ]
  },
  {
   "cell_type": "markdown",
   "id": "d299ee55",
   "metadata": {},
   "source": [
    "# Trained Decision Tree on a generated moon data set"
   ]
  },
  {
   "cell_type": "code",
   "execution_count": 25,
   "id": "51ceba87",
   "metadata": {},
   "outputs": [],
   "source": [
    "from sklearn.datasets import make_moons"
   ]
  },
  {
   "cell_type": "code",
   "execution_count": 26,
   "id": "df4ed834",
   "metadata": {},
   "outputs": [],
   "source": [
    "X, y = make_moons(n_samples=10000, noise=0.1, random_state=42) "
   ]
  },
  {
   "cell_type": "code",
   "execution_count": 27,
   "id": "272220cb",
   "metadata": {},
   "outputs": [],
   "source": [
    "#Split it into a training set and a test set using train_test_split(). \n",
    "from sklearn.model_selection import train_test_split \n",
    "X_train, X_test, y_train, y_test = train_test_split(X, y, test_size=0.2, random_state=42) "
   ]
  },
  {
   "cell_type": "code",
   "execution_count": 28,
   "id": "81fe9767",
   "metadata": {},
   "outputs": [
    {
     "name": "stdout",
     "output_type": "stream",
     "text": [
      "Fitting 3 folds for each of 2430 candidates, totalling 7290 fits\n"
     ]
    },
    {
     "data": {
      "text/plain": [
       "0.9995"
      ]
     },
     "execution_count": 28,
     "metadata": {},
     "output_type": "execute_result"
    }
   ],
   "source": [
    "#Grid search with cross-validation \n",
    "from sklearn.model_selection import GridSearchCV \n",
    "from sklearn.tree import DecisionTreeClassifier \n",
    "params = {'max_leaf_nodes': list(range(90, 900)), 'min_samples_split': [2, 3, 4]} \n",
    "grid_search_cv = GridSearchCV(DecisionTreeClassifier(random_state=42), params, n_jobs=-1, verbose=1, cv=3) \n",
    "grid_search_cv.fit(X_train, y_train) \n",
    "grid_search_cv.best_estimator_ \n",
    "from sklearn.metrics import accuracy_score \n",
    "y_pred = grid_search_cv.predict(X_test) \n",
    "accuracy_score(y_test, y_pred) "
   ]
  },
  {
   "cell_type": "code",
   "execution_count": 29,
   "id": "3288a2af",
   "metadata": {},
   "outputs": [
    {
     "name": "stdout",
     "output_type": "stream",
     "text": [
      "[[1013    0]\n",
      " [   1  986]]\n",
      "              precision    recall  f1-score   support\n",
      "\n",
      "           0       1.00      1.00      1.00      1013\n",
      "           1       1.00      1.00      1.00       987\n",
      "\n",
      "    accuracy                           1.00      2000\n",
      "   macro avg       1.00      1.00      1.00      2000\n",
      "weighted avg       1.00      1.00      1.00      2000\n",
      "\n"
     ]
    }
   ],
   "source": [
    "from sklearn.metrics import classification_report, confusion_matrix\n",
    "\n",
    "print(confusion_matrix(y_test, y_pred))\n",
    "print(classification_report(y_test, y_pred))"
   ]
  },
  {
   "cell_type": "code",
   "execution_count": 30,
   "id": "96123163",
   "metadata": {},
   "outputs": [
    {
     "name": "stdout",
     "output_type": "stream",
     "text": [
      "Mean Squared Error: 0.0005\n",
      "Accuracy: 0.9995\n",
      "Precision: 0.9994868287740628\n",
      "Recall: 0.9989868287740629\n",
      "Receiver Operating Curve: (array([0., 0., 1.]), array([0.        , 0.99898683, 1.        ]), array([2, 1, 0], dtype=int64))\n"
     ]
    }
   ],
   "source": [
    "# Mean Squared Error, Accuracy, Average Precision Score, Recall, ROC\n",
    "from sklearn.metrics import mean_squared_error\n",
    "from sklearn.metrics import accuracy_score\n",
    "from sklearn.metrics import average_precision_score\n",
    "from sklearn.metrics import recall_score\n",
    "from sklearn.metrics import roc_curve\n",
    "\n",
    "print(f\"Mean Squared Error: {mean_squared_error(y_test, y_pred, sample_weight=None, multioutput='uniform_average', squared=True)}\")\n",
    "print(f\"Accuracy: {accuracy_score(y_test, y_pred, normalize=True, sample_weight=None)}\")\n",
    "print(f\"Precision: {average_precision_score(y_test, y_pred, average='macro', pos_label=1, sample_weight=None)}\")\n",
    "print(f\"Recall: {recall_score(y_test, y_pred, labels=None, pos_label=1, average='binary', sample_weight=None, zero_division='warn')}\")\n",
    "print(f\"Receiver Operating Curve: {roc_curve(y_test, y_pred, pos_label=None, sample_weight=None, drop_intermediate=True)}\")"
   ]
  },
  {
   "cell_type": "code",
   "execution_count": 33,
   "id": "fb505f8a",
   "metadata": {},
   "outputs": [
    {
     "name": "stdout",
     "output_type": "stream",
     "text": [
      "Area under the ROC curve : 0.970939\n"
     ]
    },
    {
     "data": {
      "image/png": "[encoded data removed]",
      "text/plain": [
       "<Figure size 432x288 with 1 Axes>"
      ]
     },
     "metadata": {
      "needs_background": "light"
     },
     "output_type": "display_data"
    }
   ],
   "source": [
    "import pylab as pl\n",
    "from sklearn import svm\n",
    "from sklearn.utils import shuffle\n",
    "from sklearn.metrics import roc_curve, auc\n",
    "random_state = np.random.RandomState(0)\n",
    "classifier = svm.SVC(kernel='linear', probability=True)\n",
    "probas_ = classifier.fit(X_train, y_train).predict_proba(X_test)\n",
    "# ROC curve and area the curve\n",
    "fpr, tpr, thresholds = roc_curve(y_test, probas_[:, 1])\n",
    "roc_auc = auc(fpr, tpr)\n",
    "print(\"Area under the ROC curve : %f\" % roc_auc)\n",
    "# Plot curve\n",
    "pl.clf()\n",
    "pl.plot(fpr, tpr, label='ROC curve (area = %0.2f)' % roc_auc)\n",
    "pl.plot([0, 1], [0, 1], 'k--')\n",
    "pl.xlim([0.0, 1.0])\n",
    "pl.ylim([0.0, 1.0])\n",
    "pl.xlabel('False Positive Rate')\n",
    "pl.ylabel('True Positive Rate')\n",
    "pl.title('Receiver operating characteristic SVM')\n",
    "pl.legend(loc=\"lower right\")\n",
    "pl.show()"
   ]
  },
  {
   "cell_type": "code",
   "execution_count": 34,
   "id": "9bc4b9e9",
   "metadata": {},
   "outputs": [
    {
     "data": {
      "image/png": "[encoded data removed]",
      "text/plain": [
       "<Figure size 432x288 with 1 Axes>"
      ]
     },
     "metadata": {
      "needs_background": "light"
     },
     "output_type": "display_data"
    }
   ],
   "source": [
    "# Precision-Recall curve\n",
    "classifier.fit(X_train, y_train)\n",
    "try:\n",
    "    scores = classifier.decision_function(X_test)\n",
    "except:\n",
    "    scores = classifier.predict_proba(X_test)[:,1]\n",
    "\n",
    "precision, recall, _ = precision_recall_curve(y_test, scores, pos_label=1)\n",
    "average_precision = average_precision_score(y_test, scores)\n",
    "\n",
    "plt.plot(recall, precision, label='area = %0.2f' % average_precision, color=\"green\")\n",
    "plt.xlim([0.0, 1.0])\n",
    "plt.ylim([0.0, 1.05])\n",
    "plt.xlabel('Recall')\n",
    "plt.ylabel('Precision')\n",
    "plt.title('Precision Recall Curve')\n",
    "plt.legend(loc=\"lower right\")\n",
    "plt.show()"
   ]
  },
  {
   "cell_type": "code",
   "execution_count": null,
   "id": "8ab565fc",
   "metadata": {},
   "outputs": [],
   "source": []
  }
 ],
 "metadata": {
  "kernelspec": {
   "display_name": "Python 3",
   "language": "python",
   "name": "python3"
  },
  "language_info": {
   "codemirror_mode": {
    "name": "ipython",
    "version": 3
   },
   "file_extension": ".py",
   "mimetype": "text/x-python",
   "name": "python",
   "nbconvert_exporter": "python",
   "pygments_lexer": "ipython3",
   "version": "3.8.8"
  }
 },
 "nbformat": 4,
 "nbformat_minor": 5
}
